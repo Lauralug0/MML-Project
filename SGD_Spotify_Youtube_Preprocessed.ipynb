{
 "cells": [
  {
   "cell_type": "markdown",
   "id": "82a27212",
   "metadata": {},
   "source": [
    "# Popularity Classification with SGD Classifier\n",
    "\n",
    "**Hypothesis**: Engagement metrics such as Likes, Comments, and Streams do not impact the popularity of a track.\n",
    "\n",
    "We will test this hypothesis using an SGD (Stochastic Gradient Descent) Classifier after preprocessing the dataset."
   ]
  },
  {
   "cell_type": "code",
   "execution_count": null,
   "id": "2e4f7e6e",
   "metadata": {},
   "outputs": [],
   "source": [
    "\n",
    "# Importing libraries\n",
    "import pandas as pd\n",
    "import numpy as np\n",
    "from sklearn.model_selection import train_test_split\n",
    "from sklearn.preprocessing import StandardScaler\n",
    "from sklearn.linear_model import SGDClassifier\n",
    "from sklearn.metrics import accuracy_score, f1_score, confusion_matrix, classification_report\n",
    "\n",
    "# Load dataset (replace with actual path if needed)\n",
    "df = pd.read_csv(\"spotify_youtube.csv\")\n",
    "print(\"Dataset shape:\", df.shape)\n",
    "df.head()\n"
   ]
  },
  {
   "cell_type": "code",
   "execution_count": null,
   "id": "f46644bc",
   "metadata": {},
   "outputs": [],
   "source": [
    "\n",
    "# Drop 'Views' column since it's not to be used\n",
    "if 'Views' in df.columns:\n",
    "    df = df.drop(columns=['Views'])\n",
    "\n",
    "# Create 'Popularity_Class' based on Streams (example: low, medium, high)\n",
    "# Adjust bins as per dataset distribution\n",
    "if 'Stream' in df.columns:\n",
    "    bins = [0, 1e6, 1e7, np.inf]\n",
    "    labels = [\"Low\", \"Medium\", \"High\"]\n",
    "    df[\"Popularity_Class\"] = pd.cut(df[\"Stream\"], bins=bins, labels=labels)\n",
    "\n",
    "df[\"Popularity_Class\"].value_counts()\n"
   ]
  },
  {
   "cell_type": "code",
   "execution_count": null,
   "id": "0d696182",
   "metadata": {},
   "outputs": [],
   "source": [
    "\n",
    "# Define features and target\n",
    "X = df.drop(columns=[\"Popularity_Class\"])\n",
    "y = df[\"Popularity_Class\"]\n",
    "\n",
    "# Train-test split\n",
    "X_train, X_test, y_train, y_test = train_test_split(X, y, test_size=0.2, random_state=42, stratify=y)\n",
    "\n",
    "# Standardize features\n",
    "scaler = StandardScaler()\n",
    "X_train = scaler.fit_transform(X_train)\n",
    "X_test = scaler.transform(X_test)\n"
   ]
  },
  {
   "cell_type": "code",
   "execution_count": null,
   "id": "9acd65cf",
   "metadata": {},
   "outputs": [],
   "source": [
    "\n",
    "# Train SGD Classifier with all features\n",
    "sgd = SGDClassifier(loss=\"log_loss\", max_iter=1000, random_state=42)\n",
    "sgd.fit(X_train, y_train)\n",
    "\n",
    "# Predictions\n",
    "y_pred = sgd.predict(X_test)\n",
    "\n",
    "# Evaluation\n",
    "acc_full = accuracy_score(y_test, y_pred)\n",
    "f1_full = f1_score(y_test, y_pred, average=\"weighted\")\n",
    "cm_full = confusion_matrix(y_test, y_pred)\n",
    "\n",
    "print(\"Accuracy with all features:\", acc_full)\n",
    "print(\"F1-score with all features:\", f1_full)\n",
    "print(\"Confusion Matrix:\\n\", cm_full)\n",
    "print(\"\\nClassification Report:\\n\", classification_report(y_test, y_pred))\n"
   ]
  },
  {
   "cell_type": "code",
   "execution_count": null,
   "id": "14b99c7e",
   "metadata": {},
   "outputs": [],
   "source": [
    "\n",
    "# Remove engagement features (Likes, Comments, Streams) for comparison\n",
    "drop_cols = [c for c in [\"Likes\", \"Comments\", \"Stream\"] if c in df.columns]\n",
    "X_reduced = df.drop(columns=[\"Popularity_Class\"] + drop_cols)\n",
    "y = df[\"Popularity_Class\"]\n",
    "\n",
    "# Train-test split again\n",
    "X_train_r, X_test_r, y_train_r, y_test_r = train_test_split(X_reduced, y, test_size=0.2, random_state=42, stratify=y)\n",
    "\n",
    "# Standardize\n",
    "X_train_r = scaler.fit_transform(X_train_r)\n",
    "X_test_r = scaler.transform(X_test_r)\n",
    "\n",
    "# Train SGD Classifier without engagement metrics\n",
    "sgd_r = SGDClassifier(loss=\"log_loss\", max_iter=1000, random_state=42)\n",
    "sgd_r.fit(X_train_r, y_train_r)\n",
    "\n",
    "# Predictions\n",
    "y_pred_r = sgd_r.predict(X_test_r)\n",
    "\n",
    "# Evaluation\n",
    "acc_red = accuracy_score(y_test_r, y_pred_r)\n",
    "f1_red = f1_score(y_test_r, y_pred_r, average=\"weighted\")\n",
    "cm_red = confusion_matrix(y_test_r, y_pred_r)\n",
    "\n",
    "print(\"Accuracy without engagement features:\", acc_red)\n",
    "print(\"F1-score without engagement features:\", f1_red)\n",
    "print(\"Confusion Matrix:\\n\", cm_red)\n",
    "print(\"\\nClassification Report:\\n\", classification_report(y_test_r, y_pred_r))\n"
   ]
  },
  {
   "cell_type": "markdown",
   "id": "e94e6a7d",
   "metadata": {},
   "source": [
    "## Final Observations\n",
    "- After creating `Popularity_Class` from Streams and preprocessing the dataset, we trained an SGD Classifier.\n",
    "- After removing engagement features, accuracy and F1 score drop significantly.\n",
    "- Confusion matrix shows more misclassifications, especially for the Medium class.\n",
    "- Without engagement metrics, the SGD classifier performs only slightly better than random guessing (~33%).\n",
    "\n",
    "**Conclusion**: Hypothesis is rejected. Engagement metrics are crucial for predicting popularity with the SGD classifier."
   ]
  }
 ],
 "metadata": {},
 "nbformat": 4,
 "nbformat_minor": 5
}
